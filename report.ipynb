{
 "cells": [
  {
   "metadata": {
    "ExecuteTime": {
     "end_time": "2025-09-11T03:40:18.085664Z",
     "start_time": "2025-09-11T03:40:16.729333Z"
    }
   },
   "cell_type": "code",
   "source": [
    "import pandas as pd\n",
    "df = pd.read_parquet(\"data/clean_reviews.parquet\")\n",
    "df"
   ],
   "id": "bc4f7e8527c651f9",
   "outputs": [
    {
     "data": {
      "text/plain": [
       "                                                    text sentiment  split  \\\n",
       "0      I rented I AM CURIOUS-YELLOW from my video sto...       neg  train   \n",
       "1      \"I Am Curious: Yellow\" is a risible and preten...       neg  train   \n",
       "2      If only to avoid making this type of film in t...       neg  train   \n",
       "3      This film was probably inspired by Godard's Ma...       neg  train   \n",
       "4      Oh, brother...after hearing about this ridicul...       neg  train   \n",
       "...                                                  ...       ...    ...   \n",
       "49995  Just got around to seeing Monster Man yesterda...       pos   test   \n",
       "49996  I got this as part of a competition prize. I w...       pos   test   \n",
       "49997  I got Monster Man in a box set of three films ...       pos   test   \n",
       "49998  Five minutes in, i started to feel how naff th...       pos   test   \n",
       "49999  I caught this movie on the Sci-Fi channel rece...       pos   test   \n",
       "\n",
       "        review_id                                         clean_text  \n",
       "0         train_0  rent curious yellow video store controversy su...  \n",
       "1         train_1  curious yellow risible pretentious steaming pi...  \n",
       "2         train_2  avoid make type film future film interesting e...  \n",
       "3         train_3  film probably inspire godard masculin minin ur...  \n",
       "4         train_4  oh brother hear ridiculous film umpteen year t...  \n",
       "...           ...                                                ...  \n",
       "49995  test_24995  get see monster man yesterday long wait lot an...  \n",
       "49996  test_24996  get competition prize watch expect obviously l...  \n",
       "49997  test_24997  get monster man box set film mainly want pleas...  \n",
       "49998  test_24998  minute start feel naff look get completely unh...  \n",
       "49999  test_24999  catch movie sci fi channel recently actually t...  \n",
       "\n",
       "[50000 rows x 5 columns]"
      ],
      "text/html": [
       "<div>\n",
       "<style scoped>\n",
       "    .dataframe tbody tr th:only-of-type {\n",
       "        vertical-align: middle;\n",
       "    }\n",
       "\n",
       "    .dataframe tbody tr th {\n",
       "        vertical-align: top;\n",
       "    }\n",
       "\n",
       "    .dataframe thead th {\n",
       "        text-align: right;\n",
       "    }\n",
       "</style>\n",
       "<table border=\"1\" class=\"dataframe\">\n",
       "  <thead>\n",
       "    <tr style=\"text-align: right;\">\n",
       "      <th></th>\n",
       "      <th>text</th>\n",
       "      <th>sentiment</th>\n",
       "      <th>split</th>\n",
       "      <th>review_id</th>\n",
       "      <th>clean_text</th>\n",
       "    </tr>\n",
       "  </thead>\n",
       "  <tbody>\n",
       "    <tr>\n",
       "      <th>0</th>\n",
       "      <td>I rented I AM CURIOUS-YELLOW from my video sto...</td>\n",
       "      <td>neg</td>\n",
       "      <td>train</td>\n",
       "      <td>train_0</td>\n",
       "      <td>rent curious yellow video store controversy su...</td>\n",
       "    </tr>\n",
       "    <tr>\n",
       "      <th>1</th>\n",
       "      <td>\"I Am Curious: Yellow\" is a risible and preten...</td>\n",
       "      <td>neg</td>\n",
       "      <td>train</td>\n",
       "      <td>train_1</td>\n",
       "      <td>curious yellow risible pretentious steaming pi...</td>\n",
       "    </tr>\n",
       "    <tr>\n",
       "      <th>2</th>\n",
       "      <td>If only to avoid making this type of film in t...</td>\n",
       "      <td>neg</td>\n",
       "      <td>train</td>\n",
       "      <td>train_2</td>\n",
       "      <td>avoid make type film future film interesting e...</td>\n",
       "    </tr>\n",
       "    <tr>\n",
       "      <th>3</th>\n",
       "      <td>This film was probably inspired by Godard's Ma...</td>\n",
       "      <td>neg</td>\n",
       "      <td>train</td>\n",
       "      <td>train_3</td>\n",
       "      <td>film probably inspire godard masculin minin ur...</td>\n",
       "    </tr>\n",
       "    <tr>\n",
       "      <th>4</th>\n",
       "      <td>Oh, brother...after hearing about this ridicul...</td>\n",
       "      <td>neg</td>\n",
       "      <td>train</td>\n",
       "      <td>train_4</td>\n",
       "      <td>oh brother hear ridiculous film umpteen year t...</td>\n",
       "    </tr>\n",
       "    <tr>\n",
       "      <th>...</th>\n",
       "      <td>...</td>\n",
       "      <td>...</td>\n",
       "      <td>...</td>\n",
       "      <td>...</td>\n",
       "      <td>...</td>\n",
       "    </tr>\n",
       "    <tr>\n",
       "      <th>49995</th>\n",
       "      <td>Just got around to seeing Monster Man yesterda...</td>\n",
       "      <td>pos</td>\n",
       "      <td>test</td>\n",
       "      <td>test_24995</td>\n",
       "      <td>get see monster man yesterday long wait lot an...</td>\n",
       "    </tr>\n",
       "    <tr>\n",
       "      <th>49996</th>\n",
       "      <td>I got this as part of a competition prize. I w...</td>\n",
       "      <td>pos</td>\n",
       "      <td>test</td>\n",
       "      <td>test_24996</td>\n",
       "      <td>get competition prize watch expect obviously l...</td>\n",
       "    </tr>\n",
       "    <tr>\n",
       "      <th>49997</th>\n",
       "      <td>I got Monster Man in a box set of three films ...</td>\n",
       "      <td>pos</td>\n",
       "      <td>test</td>\n",
       "      <td>test_24997</td>\n",
       "      <td>get monster man box set film mainly want pleas...</td>\n",
       "    </tr>\n",
       "    <tr>\n",
       "      <th>49998</th>\n",
       "      <td>Five minutes in, i started to feel how naff th...</td>\n",
       "      <td>pos</td>\n",
       "      <td>test</td>\n",
       "      <td>test_24998</td>\n",
       "      <td>minute start feel naff look get completely unh...</td>\n",
       "    </tr>\n",
       "    <tr>\n",
       "      <th>49999</th>\n",
       "      <td>I caught this movie on the Sci-Fi channel rece...</td>\n",
       "      <td>pos</td>\n",
       "      <td>test</td>\n",
       "      <td>test_24999</td>\n",
       "      <td>catch movie sci fi channel recently actually t...</td>\n",
       "    </tr>\n",
       "  </tbody>\n",
       "</table>\n",
       "<p>50000 rows × 5 columns</p>\n",
       "</div>"
      ]
     },
     "execution_count": 1,
     "metadata": {},
     "output_type": "execute_result"
    }
   ],
   "execution_count": 1
  },
  {
   "metadata": {
    "ExecuteTime": {
     "end_time": "2025-09-11T03:40:21.041773Z",
     "start_time": "2025-09-11T03:40:18.349768Z"
    }
   },
   "cell_type": "code",
   "source": [
    "import pickle\n",
    "path = \"data/artifacts/sentiment_lr.pkl\"\n",
    "with open(path, \"rb\") as f:\n",
    "    bundle = pickle.load(f)\n",
    "bundle"
   ],
   "id": "40c4febd72a75c57",
   "outputs": [
    {
     "data": {
      "text/plain": [
       "{'clf': LogisticRegression(max_iter=200), 'label_encoder': LabelEncoder()}"
      ]
     },
     "execution_count": 2,
     "metadata": {},
     "output_type": "execute_result"
    }
   ],
   "execution_count": 2
  },
  {
   "metadata": {
    "ExecuteTime": {
     "end_time": "2025-09-11T03:40:21.115942Z",
     "start_time": "2025-09-11T03:40:21.113612Z"
    }
   },
   "cell_type": "code",
   "source": "clf, le = bundle[\"clf\"], bundle[\"label_encoder\"]",
   "id": "17f8f9b2007d6226",
   "outputs": [],
   "execution_count": 3
  },
  {
   "metadata": {
    "ExecuteTime": {
     "end_time": "2025-09-11T03:56:29.174687Z",
     "start_time": "2025-09-11T03:56:26.373711Z"
    }
   },
   "cell_type": "code",
   "source": [
    "from sentence_transformers import SentenceTransformer\n",
    "encoder = SentenceTransformer(\"all-MiniLM-L6-v2\")"
   ],
   "id": "b0fa85c9bace24a2",
   "outputs": [],
   "execution_count": 9
  },
  {
   "metadata": {
    "ExecuteTime": {
     "end_time": "2025-09-11T03:40:37.099846Z",
     "start_time": "2025-09-11T03:40:36.993644Z"
    }
   },
   "cell_type": "code",
   "source": [
    "good_text = \"Movie 10/10.\"\n",
    "bad_text = \"Movie 0/10.\"\n",
    "bad2_text = \"Terrible movie.\"\n",
    "good2_text = \"A powerful and intense masterpiece.\"\n",
    "reviews = [good_text,bad_text, bad2_text, good2_text]\n",
    "encodings = encoder.encode(reviews, show_progress_bar=True)\n",
    "clf.predict(encodings)"
   ],
   "id": "52385636a694f6c8",
   "outputs": [
    {
     "name": "stderr",
     "output_type": "stream",
     "text": [
      "Batches: 100%|██████████| 1/1 [00:00<00:00,  9.81it/s]\n"
     ]
    }
   ],
   "execution_count": 5
  },
  {
   "metadata": {
    "ExecuteTime": {
     "end_time": "2025-09-11T03:40:37.126734Z",
     "start_time": "2025-09-11T03:40:37.123528Z"
    }
   },
   "cell_type": "code",
   "source": [
    "for ind, review_enc in enumerate(encodings):\n",
    "    sent = clf.predict([review_enc])[0]\n",
    "    print(f\"Review: {reviews[ind]} is {\"positive\" if sent else \"negative\"}\")"
   ],
   "id": "b65e666e3ceea3c8",
   "outputs": [
    {
     "name": "stdout",
     "output_type": "stream",
     "text": [
      "Review: Movie 10/10. is positive\n",
      "Review: Movie 0/10. is negative\n",
      "Review: Terrible movie. is negative\n",
      "Review: A powerful and intense masterpiece. is positive\n"
     ]
    }
   ],
   "execution_count": 7
  }
 ],
 "metadata": {
  "kernelspec": {
   "display_name": "Python 3",
   "language": "python",
   "name": "python3"
  },
  "language_info": {
   "codemirror_mode": {
    "name": "ipython",
    "version": 2
   },
   "file_extension": ".py",
   "mimetype": "text/x-python",
   "name": "python",
   "nbconvert_exporter": "python",
   "pygments_lexer": "ipython2",
   "version": "2.7.6"
  }
 },
 "nbformat": 4,
 "nbformat_minor": 5
}
